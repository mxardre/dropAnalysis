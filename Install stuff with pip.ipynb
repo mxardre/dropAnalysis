{
 "cells": [
  {
   "cell_type": "code",
   "execution_count": 4,
   "metadata": {},
   "outputs": [
    {
     "name": "stdout",
     "output_type": "stream",
     "text": [
      "Requirement already up-to-date: pip in /Users/bacterie/opt/anaconda3/lib/python3.7/site-packages (19.3.1)\n",
      "Collecting torch\n",
      "\u001b[?25l  Downloading https://files.pythonhosted.org/packages/7e/94/0ed9f7899aa0f5e7ff753a3a2b6944c146eef3f4cd51c59ab07c4575992b/torch-1.3.1-cp37-none-macosx_10_7_x86_64.whl (71.1MB)\n",
      "\u001b[K     |████████████████████████████████| 71.1MB 551kB/s eta 0:00:01\n",
      "\u001b[?25hRequirement already satisfied: numpy in /Users/bacterie/opt/anaconda3/lib/python3.7/site-packages (from torch) (1.17.4)\n",
      "Installing collected packages: torch\n",
      "Successfully installed torch-1.3.1\n"
     ]
    }
   ],
   "source": [
    "import sys\n",
    "!{sys.executable} -m pip install --upgrade pip\n",
    "#!{sys.executable} -m pip install ggplot2 --user\n",
    "#!{sys.executable} -m pwd\n",
    "!{sys.executable} -m pip install torch\n"
   ]
  },
  {
   "cell_type": "code",
   "execution_count": 14,
   "metadata": {},
   "outputs": [
    {
     "name": "stdout",
     "output_type": "stream",
     "text": [
      "Password:\n"
     ]
    }
   ],
   "source": [
    "!{sys.executable} -m jupyter nbextension install --py githubcommit"
   ]
  },
  {
   "cell_type": "code",
   "execution_count": 1,
   "metadata": {},
   "outputs": [
    {
     "name": "stdout",
     "output_type": "stream",
     "text": [
      "[ 0.  0.  0.  0.  0.  0.  0.  0.  0.  0.  0.  0.  0.  0.  0.  0.  0.  0.\n",
      "  0.  0.  0.  0.  1.  1.  1.  1.  1.  0.  0.  0.  0.  0.  0.  0.  0.  0.\n",
      "  0.  0.  0.  0.  0.  0.  0.  0.  0.  0.  0.  0.  0.  0.]\n",
      "[False False False False False False False False False False False False\n",
      " False False False False False False False False  True  True  True  True\n",
      "  True  True  True  True  True  True False False False False False False\n",
      " False False False False False False False False False False False False\n",
      " False False]\n",
      "[ 0.  0.  0.  0.  0.  0.  0.  0.  0.  0.  0.  0.  0.  0.  0.  0.  0.  0.\n",
      "  0.  0.  1.  1.  1.  1.  1.  1.  1.  1.  1.  1.  0.  0.  0.  0.  0.  0.\n",
      "  0.  0.  0.  0.  0.  0.  0.  0.  0.  0.  0.  0.  0.  0.]\n"
     ]
    },
    {
     "name": "stderr",
     "output_type": "stream",
     "text": [
      "/usr/local/lib/python3.5/site-packages/ipykernel/__main__.py:14: VisibleDeprecationWarning: using a non-integer number instead of an integer will result in an error in the future\n"
     ]
    },
    {
     "data": {
      "text/plain": [
       "<matplotlib.collections.PathCollection at 0x10b5f0dd8>"
      ]
     },
     "execution_count": 1,
     "metadata": {},
     "output_type": "execute_result"
    },
    {
     "data": {
      "image/png": "[encoded data removed]",
      "text/plain": [
       "<matplotlib.figure.Figure at 0x10a1babe0>"
      ]
     },
     "metadata": {},
     "output_type": "display_data"
    }
   ],
   "source": [
    "import scipy.signal\n",
    "import numpy as np\n",
    "import matplotlib.pyplot as plt\n",
    "%matplotlib inline\n",
    "\n",
    "mask=np.zeros(50)\n",
    "mask_area=np.zeros(50)\n",
    "mask[22:27]=1\n",
    "\n",
    "protocol_parameter=30 #integrale de la fluorescence sur une porte plus large que la detection. Pourcentage d'augmention\n",
    "\n",
    "\n",
    "width_increase=np.sum(mask)*(1+protocol_parameter/100)\n",
    "increase_with = scipy.signal.fftconvolve(mask, [1]*width_increase,'same')>.5\n",
    "mask_area[increase_with]=1\n",
    "print(mask)\n",
    "print(increase_with)\n",
    "print(mask_area)\n",
    "plt.scatter(range(len(mask)),mask)\n",
    "plt.scatter(range(len(increase_with)),increase_with+1,c='r')\n",
    "plt.scatter(range(len(mask_area)),mask_area+2,c='g')\n"
   ]
  }
 ],
 "metadata": {
  "kernelspec": {
   "display_name": "Python 3",
   "language": "python",
   "name": "python3"
  },
  "language_info": {
   "codemirror_mode": {
    "name": "ipython",
    "version": 3
   },
   "file_extension": ".py",
   "mimetype": "text/x-python",
   "name": "python",
   "nbconvert_exporter": "python",
   "pygments_lexer": "ipython3",
   "version": "3.7.4"
  }
 },
 "nbformat": 4,
 "nbformat_minor": 1
}
