{
 "cells": [
  {
   "cell_type": "code",
   "execution_count": 2,
   "metadata": {
    "collapsed": true
   },
   "outputs": [],
   "source": [
    "import pandas as pd\n",
    "import numpy as np\n",
    "import os\n",
    "from os import listdir\n",
    "from os.path import isfile, join, isdir\n",
    "import matplotlib.pyplot as plt\n",
    "import scipy.optimize\n",
    "import scipy.interpolate as si\n",
    "from pandas import DataFrame as pddf\n",
    "from pandas import Series as pds\n",
    "import bisect\n",
    "import csv\n",
    "import glob\n",
    "\n",
    "import os\n",
    "import sys\n",
    "module_path = os.path.abspath(os.path.join('/Users/maxime/Programme/fitderivpackage1.02/'))\n",
    "if module_path not in sys.path:\n",
    "    sys.path.append(module_path)\n",
    "from fitderiv import fitderiv \n",
    "\n",
    "\n",
    "\n"
   ]
  },
  {
   "cell_type": "code",
   "execution_count": null,
   "metadata": {
    "collapsed": false
   },
   "outputs": [],
   "source": []
  },
  {
   "cell_type": "code",
   "execution_count": 3,
   "metadata": {
    "collapsed": true
   },
   "outputs": [],
   "source": [
    "def loadData(path):\n",
    "    drpfiles=[path+'droplets/' + f for f in listdir(path + 'droplets/') if isfile(join(path + 'droplets/',f)) and f!='.DS_Store']\n",
    "    i=0\n",
    "    df={}\n",
    "    for file in drpfiles:\n",
    "        df[i]=pd.read_csv(file)\n",
    "        i+=1 \n",
    "\n",
    "        #create the template file in hiccup mode\n",
    "    tpfile=pd.read_csv(path+'template.csv', header=4)\n",
    "    tpFileOrd=tpfile.set_index('order')\n",
    "    label=list(set(tpfile['description']))\n",
    "    label2=[l for l in label if l!='Empty' and l!='CAA']\n",
    "    dropMap=[]\n",
    "\n",
    "\n",
    "    for i in range(0,len(tpFileOrd)-1,2):\n",
    "        for j in range(tpFileOrd.droplet_number[i]+tpFileOrd.droplet_number[i+1]):\n",
    "            if j%2==0 :\n",
    "                dropMap.append([tpFileOrd.well[i], tpFileOrd.description[i]])\n",
    "            else : \n",
    "                dropMap.append([tpFileOrd.well[i+1], tpFileOrd.description[i+1]])\n",
    "\n",
    "    dropMap=np.array(dropMap)\n",
    "    \n",
    "    return [dropMap, df, label2]"
   ]
  },
  {
   "cell_type": "code",
   "execution_count": 73,
   "metadata": {
    "collapsed": false
   },
   "outputs": [],
   "source": [
    "\n",
    "def poolData(dropMap, df, label,channel, incCarte=5e-3, nbReps=80, timeThresh=30, threshOutlayer=17): \n",
    "    for j,tmp in enumerate(label):\n",
    "        dataX=np.array([])\n",
    "        dataY=np.array([])\n",
    "        data=pddf()\n",
    "\n",
    "        print(tmp)\n",
    "        nbAdded=0\n",
    "\n",
    "        for j,content in enumerate(dropMap[:,1]):\n",
    "\n",
    "            y=[]\n",
    "            x=[]\n",
    "            if content==tmp:    \n",
    "                if channel=='RFP':\n",
    "                    p=df[j]\n",
    "                    y=np.array(np.log(p.fluo_2_area*p.speed/p.size),dtype=np.float64)\n",
    "                    x=np.array(p.time/3600) \n",
    "                    ystd=np.array(np.divide(p.fluo_2_std+incCarte/2,p.fluo_2_median))\n",
    "                if channel=='GFP':\n",
    "                    p=df[j]\n",
    "                    y=np.array(np.log(p.fluo_3_area*p.speed/p.size),dtype=np.float64)\n",
    "                    x=np.array(p.time/3600,dtype=np.float64)\n",
    "                    ystd=np.array(np.divide(p.fluo_3_std+incCarte/2,p.fluo_3_median))\n",
    "\n",
    "                if channel=='PVD':\n",
    "                    p=df[j]\n",
    "                    y=np.array(np.log(p.fluo_1_area*p.speed/p.size))\n",
    "                    x=np.array(p.time/3600,dtype=np.float64)\n",
    "                    ystd=np.array(np.divide(p.fluo_1_std+incCarte/2,p.fluo_1_median),dtype=np.float64)\n",
    "\n",
    "                #filtre outlayer\n",
    "                idxThres=bisect.bisect(x, timeThresh)\n",
    "                idxOutlayer=bisect.bisect(x, threshOutlayer)\n",
    "\n",
    "                if len(y)>idxOutlayer:\n",
    "                    if y[idxOutlayer]>y[2]+1:\n",
    "                        #save all the time en fluo of the drop from the same label. Remove run 0.\n",
    "                        dataX=np.append(dataX, x[2:idxThres])\n",
    "                        dataY=np.append(dataY, y[2:idxThres])\n",
    "                        nbAdded+=1\n",
    "                            \n",
    "                        if nbAdded>nbReps:\n",
    "                            break\n",
    "\n",
    "\n",
    "        data=pddf({'fluo': dataY,'time': dataX})\n",
    "        data=data.sort_values(by='time')\n",
    "        data=data.reindex_axis(['time','fluo'], axis=1)\n",
    "        data.to_csv(path+tmp+'.csv', index=False)\n",
    "\n",
    "\n",
    "        \n"
   ]
  },
  {
   "cell_type": "code",
   "execution_count": 70,
   "metadata": {
    "collapsed": false
   },
   "outputs": [],
   "source": [
    "def checkData(folder,label,channel):\n",
    "    for dataFile in label:\n",
    "        file=folder+dataFile+'.csv'\n",
    "        data=pd.read_csv(file)\n",
    "        # load data\n",
    "        t, od= np.array(data['time']), np.array(data['fluo'])\n",
    "        fig=plt.figure()\n",
    "        plt.scatter(t,od)\n",
    "        plt.show()\n",
    "        fig.savefig(folder+dataFile+'check'+channel+'.jpg')\n",
    "    "
   ]
  },
  {
   "cell_type": "code",
   "execution_count": 6,
   "metadata": {
    "collapsed": false
   },
   "outputs": [],
   "source": [
    "def fitDataLM(folder,label): \n",
    "\n",
    "    for j,dataFile in enumerate(label):\n",
    "        file=folder+dataFile+'.csv'\n",
    "        data=pd.read_csv(file)\n",
    "        # load data\n",
    "        # d= np.loadtxt('data.txt')\n",
    "        t, od= np.array(data['time']), np.array(data['fluo'])\n",
    "\n",
    "        # redefine bounds and run inference\n",
    "        #hyperparameters \n",
    "        #0: amplitude\n",
    "        #1: flexibility\n",
    "        #2: measurement error\n",
    "        #initial    b= {0: [-1,5], 1: [-5,2], 2: [-7,1]}\n",
    "        b= {0: [-1,5], 1: [-5,0], 2: [-1,0]}\n",
    "        q= fitderiv(t, od, bd= b, logs= False)\n",
    "\n",
    "        # plot results\n",
    "        fig=plt.figure()\n",
    "        #plt.subplot(2,1,1)\n",
    "        q.plotfit('f')\n",
    "        plt.show()\n",
    "        fig.savefig(folder+dataFile+'fit.jpg')\n",
    "        #plt.subplot(2,1,2)\n",
    "        fig=plt.figure()\n",
    "        q.plotfit('df')\n",
    "        plt.show()\n",
    "        fig.savefig(folder+dataFile+'derivative.jpg')\n",
    "\n",
    "\n",
    "        # export results\n",
    "        statdict=q.printstats()\n",
    "        with open(folder+dataFile+'result.csv','w') as csv_file:\n",
    "            writer = csv.writer(csv_file)\n",
    "            for key, value in statdict.items():\n",
    "                writer.writerow([key, value])"
   ]
  },
  {
   "cell_type": "code",
   "execution_count": 7,
   "metadata": {
    "collapsed": false
   },
   "outputs": [],
   "source": [
    "def barPlot(labelList,y,stdy,ymin,ymax,title,ylabel,path):\n",
    "    # Build the plot\n",
    "    fig, ax = plt.subplots()\n",
    "    x_pos = np.arange(len(labelList))\n",
    "    ax.bar(x_pos, y, yerr=stdy, align='center', alpha=0.5, ecolor='black', capsize=10)\n",
    "    ax.set_ylabel(ylabel)\n",
    "    ax.set_xticks(x_pos)\n",
    "    plt.xticks(rotation=90)\n",
    "    ax.set_xticklabels(labelList)\n",
    "    ax.set_ylim([ymin,ymax])\n",
    "    ax.set_title(title)\n",
    "    ax.yaxis.grid(True)\n",
    "\n",
    "    # Save the figure and show\n",
    "    plt.tight_layout()\n",
    "    plt.savefig(path)\n",
    "    plt.show()"
   ]
  },
  {
   "cell_type": "code",
   "execution_count": 72,
   "metadata": {
    "collapsed": false,
    "scrolled": true
   },
   "outputs": [
    {
     "name": "stdout",
     "output_type": "stream",
     "text": [
      "/Users/maxime/Documents/experiences/milli/MILLIDROP_manip/2018-05-24_green-red_CAA/analysis/\n",
      "50-50\n",
      "50-50-100uM\n",
      "90pvdS-10WT\n",
      "10pvdS-90WT\n"
     ]
    },
    {
     "ename": "ValueError",
     "evalue": "First argument must be a sequence",
     "output_type": "error",
     "traceback": [
      "\u001b[0;31m---------------------------------------------------------------------------\u001b[0m",
      "\u001b[0;31mValueError\u001b[0m                                Traceback (most recent call last)",
      "\u001b[0;32m<ipython-input-72-0cf2a745e64d>\u001b[0m in \u001b[0;36m<module>\u001b[0;34m()\u001b[0m\n\u001b[1;32m     19\u001b[0m     \u001b[0;34m[\u001b[0m\u001b[0mdropMap\u001b[0m\u001b[0;34m,\u001b[0m \u001b[0mdf\u001b[0m\u001b[0;34m,\u001b[0m \u001b[0mlabel\u001b[0m\u001b[0;34m]\u001b[0m\u001b[0;34m=\u001b[0m\u001b[0mloadData\u001b[0m\u001b[0;34m(\u001b[0m\u001b[0mpath\u001b[0m\u001b[0;34m)\u001b[0m\u001b[0;34m\u001b[0m\u001b[0m\n\u001b[1;32m     20\u001b[0m     \u001b[0mpoolData\u001b[0m\u001b[0;34m(\u001b[0m\u001b[0mdropMap\u001b[0m\u001b[0;34m,\u001b[0m \u001b[0mdf\u001b[0m\u001b[0;34m,\u001b[0m \u001b[0mlabel\u001b[0m\u001b[0;34m,\u001b[0m \u001b[0mchannel\u001b[0m\u001b[0;34m,\u001b[0m \u001b[0mincCarte\u001b[0m\u001b[0;34m,\u001b[0m \u001b[0mnbReps\u001b[0m\u001b[0;34m,\u001b[0m \u001b[0mtimeThresh\u001b[0m\u001b[0;34m,\u001b[0m \u001b[0mthreshOutlayer\u001b[0m\u001b[0;34m)\u001b[0m\u001b[0;34m\u001b[0m\u001b[0m\n\u001b[0;32m---> 21\u001b[0;31m     \u001b[0mcheckData\u001b[0m\u001b[0;34m(\u001b[0m\u001b[0mpath\u001b[0m\u001b[0;34m,\u001b[0m \u001b[0mlabel\u001b[0m\u001b[0;34m,\u001b[0m\u001b[0mchannel\u001b[0m\u001b[0;34m)\u001b[0m\u001b[0;34m\u001b[0m\u001b[0m\n\u001b[0m\u001b[1;32m     22\u001b[0m     \u001b[0;31m#fitDataLM(path, label)\u001b[0m\u001b[0;34m\u001b[0m\u001b[0;34m\u001b[0m\u001b[0m\n",
      "\u001b[0;32m<ipython-input-70-b7504528ee44>\u001b[0m in \u001b[0;36mcheckData\u001b[0;34m(folder, label, channel)\u001b[0m\n\u001b[1;32m      6\u001b[0m         \u001b[0mt\u001b[0m\u001b[0;34m,\u001b[0m \u001b[0mod\u001b[0m\u001b[0;34m=\u001b[0m \u001b[0mnp\u001b[0m\u001b[0;34m.\u001b[0m\u001b[0marray\u001b[0m\u001b[0;34m(\u001b[0m\u001b[0mdata\u001b[0m\u001b[0;34m[\u001b[0m\u001b[0;34m'time'\u001b[0m\u001b[0;34m]\u001b[0m\u001b[0;34m)\u001b[0m\u001b[0;34m,\u001b[0m \u001b[0mnp\u001b[0m\u001b[0;34m.\u001b[0m\u001b[0marray\u001b[0m\u001b[0;34m(\u001b[0m\u001b[0mdata\u001b[0m\u001b[0;34m[\u001b[0m\u001b[0;34m'fluo'\u001b[0m\u001b[0;34m]\u001b[0m\u001b[0;34m)\u001b[0m\u001b[0;34m\u001b[0m\u001b[0m\n\u001b[1;32m      7\u001b[0m         \u001b[0mfig\u001b[0m\u001b[0;34m=\u001b[0m\u001b[0mplt\u001b[0m\u001b[0;34m.\u001b[0m\u001b[0mfigure\u001b[0m\u001b[0;34m(\u001b[0m\u001b[0;34m)\u001b[0m\u001b[0;34m\u001b[0m\u001b[0m\n\u001b[0;32m----> 8\u001b[0;31m         \u001b[0mplt\u001b[0m\u001b[0;34m.\u001b[0m\u001b[0mscatter\u001b[0m\u001b[0;34m(\u001b[0m\u001b[0mt\u001b[0m\u001b[0;34m,\u001b[0m\u001b[0mod\u001b[0m\u001b[0;34m)\u001b[0m\u001b[0;34m\u001b[0m\u001b[0m\n\u001b[0m\u001b[1;32m      9\u001b[0m         \u001b[0mplt\u001b[0m\u001b[0;34m.\u001b[0m\u001b[0mshow\u001b[0m\u001b[0;34m(\u001b[0m\u001b[0;34m)\u001b[0m\u001b[0;34m\u001b[0m\u001b[0m\n\u001b[1;32m     10\u001b[0m         \u001b[0mfig\u001b[0m\u001b[0;34m.\u001b[0m\u001b[0msavefig\u001b[0m\u001b[0;34m(\u001b[0m\u001b[0mfolder\u001b[0m\u001b[0;34m+\u001b[0m\u001b[0mdataFile\u001b[0m\u001b[0;34m+\u001b[0m\u001b[0;34m'check'\u001b[0m\u001b[0;34m+\u001b[0m\u001b[0mchannel\u001b[0m\u001b[0;34m+\u001b[0m\u001b[0;34m'.jpg'\u001b[0m\u001b[0;34m)\u001b[0m\u001b[0;34m\u001b[0m\u001b[0m\n",
      "\u001b[0;32m/usr/local/lib/python3.5/site-packages/matplotlib/pyplot.py\u001b[0m in \u001b[0;36mscatter\u001b[0;34m(x, y, s, c, marker, cmap, norm, vmin, vmax, alpha, linewidths, verts, edgecolors, hold, data, **kwargs)\u001b[0m\n\u001b[1;32m   3256\u001b[0m                          \u001b[0mvmin\u001b[0m\u001b[0;34m=\u001b[0m\u001b[0mvmin\u001b[0m\u001b[0;34m,\u001b[0m \u001b[0mvmax\u001b[0m\u001b[0;34m=\u001b[0m\u001b[0mvmax\u001b[0m\u001b[0;34m,\u001b[0m \u001b[0malpha\u001b[0m\u001b[0;34m=\u001b[0m\u001b[0malpha\u001b[0m\u001b[0;34m,\u001b[0m\u001b[0;34m\u001b[0m\u001b[0m\n\u001b[1;32m   3257\u001b[0m                          \u001b[0mlinewidths\u001b[0m\u001b[0;34m=\u001b[0m\u001b[0mlinewidths\u001b[0m\u001b[0;34m,\u001b[0m \u001b[0mverts\u001b[0m\u001b[0;34m=\u001b[0m\u001b[0mverts\u001b[0m\u001b[0;34m,\u001b[0m\u001b[0;34m\u001b[0m\u001b[0m\n\u001b[0;32m-> 3258\u001b[0;31m                          edgecolors=edgecolors, data=data, **kwargs)\n\u001b[0m\u001b[1;32m   3259\u001b[0m     \u001b[0;32mfinally\u001b[0m\u001b[0;34m:\u001b[0m\u001b[0;34m\u001b[0m\u001b[0m\n\u001b[1;32m   3260\u001b[0m         \u001b[0max\u001b[0m\u001b[0;34m.\u001b[0m\u001b[0mhold\u001b[0m\u001b[0;34m(\u001b[0m\u001b[0mwashold\u001b[0m\u001b[0;34m)\u001b[0m\u001b[0;34m\u001b[0m\u001b[0m\n",
      "\u001b[0;32m/usr/local/lib/python3.5/site-packages/matplotlib/__init__.py\u001b[0m in \u001b[0;36minner\u001b[0;34m(ax, *args, **kwargs)\u001b[0m\n\u001b[1;32m   1817\u001b[0m                     warnings.warn(msg % (label_namer, func.__name__),\n\u001b[1;32m   1818\u001b[0m                                   RuntimeWarning, stacklevel=2)\n\u001b[0;32m-> 1819\u001b[0;31m             \u001b[0;32mreturn\u001b[0m \u001b[0mfunc\u001b[0m\u001b[0;34m(\u001b[0m\u001b[0max\u001b[0m\u001b[0;34m,\u001b[0m \u001b[0;34m*\u001b[0m\u001b[0margs\u001b[0m\u001b[0;34m,\u001b[0m \u001b[0;34m**\u001b[0m\u001b[0mkwargs\u001b[0m\u001b[0;34m)\u001b[0m\u001b[0;34m\u001b[0m\u001b[0m\n\u001b[0m\u001b[1;32m   1820\u001b[0m         \u001b[0mpre_doc\u001b[0m \u001b[0;34m=\u001b[0m \u001b[0minner\u001b[0m\u001b[0;34m.\u001b[0m\u001b[0m__doc__\u001b[0m\u001b[0;34m\u001b[0m\u001b[0m\n\u001b[1;32m   1821\u001b[0m         \u001b[0;32mif\u001b[0m \u001b[0mpre_doc\u001b[0m \u001b[0;32mis\u001b[0m \u001b[0;32mNone\u001b[0m\u001b[0;34m:\u001b[0m\u001b[0;34m\u001b[0m\u001b[0m\n",
      "\u001b[0;32m/usr/local/lib/python3.5/site-packages/matplotlib/axes/_axes.py\u001b[0m in \u001b[0;36mscatter\u001b[0;34m(self, x, y, s, c, marker, cmap, norm, vmin, vmax, alpha, linewidths, verts, edgecolors, **kwargs)\u001b[0m\n\u001b[1;32m   3836\u001b[0m \u001b[0;34m\u001b[0m\u001b[0m\n\u001b[1;32m   3837\u001b[0m         \u001b[0;31m# c will be unchanged unless it is the same length as x:\u001b[0m\u001b[0;34m\u001b[0m\u001b[0;34m\u001b[0m\u001b[0m\n\u001b[0;32m-> 3838\u001b[0;31m         \u001b[0mx\u001b[0m\u001b[0;34m,\u001b[0m \u001b[0my\u001b[0m\u001b[0;34m,\u001b[0m \u001b[0ms\u001b[0m\u001b[0;34m,\u001b[0m \u001b[0mc\u001b[0m \u001b[0;34m=\u001b[0m \u001b[0mcbook\u001b[0m\u001b[0;34m.\u001b[0m\u001b[0mdelete_masked_points\u001b[0m\u001b[0;34m(\u001b[0m\u001b[0mx\u001b[0m\u001b[0;34m,\u001b[0m \u001b[0my\u001b[0m\u001b[0;34m,\u001b[0m \u001b[0ms\u001b[0m\u001b[0;34m,\u001b[0m \u001b[0mc\u001b[0m\u001b[0;34m)\u001b[0m\u001b[0;34m\u001b[0m\u001b[0m\n\u001b[0m\u001b[1;32m   3839\u001b[0m \u001b[0;34m\u001b[0m\u001b[0m\n\u001b[1;32m   3840\u001b[0m         \u001b[0mscales\u001b[0m \u001b[0;34m=\u001b[0m \u001b[0ms\u001b[0m   \u001b[0;31m# Renamed for readability below.\u001b[0m\u001b[0;34m\u001b[0m\u001b[0m\n",
      "\u001b[0;32m/usr/local/lib/python3.5/site-packages/matplotlib/cbook.py\u001b[0m in \u001b[0;36mdelete_masked_points\u001b[0;34m(*args)\u001b[0m\n\u001b[1;32m   1846\u001b[0m         \u001b[0;32mreturn\u001b[0m \u001b[0;34m(\u001b[0m\u001b[0;34m)\u001b[0m\u001b[0;34m\u001b[0m\u001b[0m\n\u001b[1;32m   1847\u001b[0m     \u001b[0;32mif\u001b[0m \u001b[0;34m(\u001b[0m\u001b[0mis_string_like\u001b[0m\u001b[0;34m(\u001b[0m\u001b[0margs\u001b[0m\u001b[0;34m[\u001b[0m\u001b[0;36m0\u001b[0m\u001b[0;34m]\u001b[0m\u001b[0;34m)\u001b[0m \u001b[0;32mor\u001b[0m \u001b[0;32mnot\u001b[0m \u001b[0miterable\u001b[0m\u001b[0;34m(\u001b[0m\u001b[0margs\u001b[0m\u001b[0;34m[\u001b[0m\u001b[0;36m0\u001b[0m\u001b[0;34m]\u001b[0m\u001b[0;34m)\u001b[0m\u001b[0;34m)\u001b[0m\u001b[0;34m:\u001b[0m\u001b[0;34m\u001b[0m\u001b[0m\n\u001b[0;32m-> 1848\u001b[0;31m         \u001b[0;32mraise\u001b[0m \u001b[0mValueError\u001b[0m\u001b[0;34m(\u001b[0m\u001b[0;34m\"First argument must be a sequence\"\u001b[0m\u001b[0;34m)\u001b[0m\u001b[0;34m\u001b[0m\u001b[0m\n\u001b[0m\u001b[1;32m   1849\u001b[0m     \u001b[0mnrecs\u001b[0m \u001b[0;34m=\u001b[0m \u001b[0mlen\u001b[0m\u001b[0;34m(\u001b[0m\u001b[0margs\u001b[0m\u001b[0;34m[\u001b[0m\u001b[0;36m0\u001b[0m\u001b[0;34m]\u001b[0m\u001b[0;34m)\u001b[0m\u001b[0;34m\u001b[0m\u001b[0m\n\u001b[1;32m   1850\u001b[0m     \u001b[0mmargs\u001b[0m \u001b[0;34m=\u001b[0m \u001b[0;34m[\u001b[0m\u001b[0;34m]\u001b[0m\u001b[0;34m\u001b[0m\u001b[0m\n",
      "\u001b[0;31mValueError\u001b[0m: First argument must be a sequence"
     ]
    }
   ],
   "source": [
    "#rootPath='/Users/maxime/Documents/experiences/milli/expDilution_5_50_500_3500/2018-02-09_dilution_CAA_WT-stock2/'\n",
    "#folder=rootPath+'analysis/'\n",
    "rootPath='/Users/maxime/Documents/experiences/milli/MILLIDROP_manip/2018-05-24_green-red_CAA/'\n",
    "folder=[rootPath+'analysis/']\n",
    "\n",
    "#rootPath='/Users/maxime/Documents/experiences/milli/experienceDilutionWTstock2/'\n",
    "#folder=[join(join(rootPath,o),'analysis/') for o in listdir(rootPath) if o[:3]=='201']\n",
    "\n",
    "#label=['SBW25-WT_CAA_1000','SBW25-WT_CAA_7000']#'SBW25-WT_CAA_10', 'SBW25-WT_CAA_100', \n",
    "\n",
    "channel ='RFP'\n",
    "incCarte=5e-3 #incertitude de lamesure par la carte hardware\n",
    "nbReps=800\n",
    "timeThresh=40 #heures\n",
    "threshOutlayer=17#heures\n",
    "\n",
    "for path in folder:\n",
    "    print(path)\n",
    "    [dropMap, df, label]=loadData(path)\n",
    "    poolData(dropMap, df, label, channel, incCarte, nbReps, timeThresh, threshOutlayer)\n",
    "    checkData(path, label,channel)\n",
    "    #fitDataLM(path, label)"
   ]
  },
  {
   "cell_type": "code",
   "execution_count": 65,
   "metadata": {
    "collapsed": false
   },
   "outputs": [
    {
     "data": {
      "image/png": "[encoded data removed]",
      "text/plain": [
       "<matplotlib.figure.Figure at 0x1148f6358>"
      ]
     },
     "metadata": {},
     "output_type": "display_data"
    },
    {
     "data": {
      "image/png": "[encoded data removed]",
      "text/plain": [
       "<matplotlib.figure.Figure at 0x1133bc0b8>"
      ]
     },
     "metadata": {},
     "output_type": "display_data"
    },
    {
     "data": {
      "image/png": "[encoded data removed]",
      "text/plain": [
       "<matplotlib.figure.Figure at 0x1133bc588>"
      ]
     },
     "metadata": {},
     "output_type": "display_data"
    }
   ],
   "source": [
    "def findIdx(your_list,item):\n",
    "\n",
    "    lst=pddf(your_list)\n",
    "    lst2=lst[0].values\n",
    "    lst3=lst2.tolist()\n",
    "    return lst3.index(item)\n",
    "\n",
    "gRateList=[]\n",
    "stdgRateList=[]\n",
    "lagList=[]\n",
    "stdlagList=[]\n",
    "yieldList=[]\n",
    "stdyieldList=[]\n",
    "labelList=[]\n",
    "\n",
    "for path in [folder[2]]:\n",
    "    #print(path)    \n",
    "    #path='/Users/maxime/Documents/experiences/milli/expDilution_5_50_500_3500/2018-02-09_dilution_CAA_WT-stock2/analysis/'\n",
    "\n",
    "    fileList=glob.glob(path+'*result.csv')\n",
    "    \n",
    "    \n",
    "    for file in fileList:\n",
    "        with open(file, 'r') as f:\n",
    "            reader = csv.reader(f)\n",
    "            your_list = list(reader)\n",
    "        \n",
    "        name=os.path.split(file)\n",
    "        #print(your_list)\n",
    "\n",
    "        \n",
    "        stdgRateList.append(float(your_list[findIdx(your_list,'max df std')][1]))\n",
    "        gRateList.append(float(your_list[findIdx(your_list,'max df')][1]))\n",
    "        lagList.append(float(your_list[findIdx(your_list,'lag time')][1]))\n",
    "        stdlagList.append(float(your_list[findIdx(your_list,'lag time std')][1]))\n",
    "        yieldList.append(float(your_list[findIdx(your_list,'max y')][1]))\n",
    "        stdyieldList.append(float(your_list[findIdx(your_list,'max y std')][1]))\n",
    "        labelList.append(name[1][:-10])\n",
    "\n",
    "barPlot(labelList,gRateList,stdgRateList,0.7,.9,'Growth rate versus dilution','growth rate ($ h^{-1}$)',rootPath+'gRate.png')\n",
    "barPlot(labelList,lagList,stdlagList,0,20,'Lag versus dilution','Lag (h)',rootPath+'lag.png')\n",
    "barPlot(labelList,yieldList,stdyieldList,6,7,'Yield versus dilution','Yield',rootPath+'yield.png')\n"
   ]
  },
  {
   "cell_type": "code",
   "execution_count": 50,
   "metadata": {
    "collapsed": false
   },
   "outputs": [],
   "source": []
  }
 ],
 "metadata": {
  "kernelspec": {
   "display_name": "Python 3",
   "language": "python",
   "name": "python3"
  },
  "language_info": {
   "codemirror_mode": {
    "name": "ipython",
    "version": 3
   },
   "file_extension": ".py",
   "mimetype": "text/x-python",
   "name": "python",
   "nbconvert_exporter": "python",
   "pygments_lexer": "ipython3",
   "version": "3.5.2"
  }
 },
 "nbformat": 4,
 "nbformat_minor": 1
}
