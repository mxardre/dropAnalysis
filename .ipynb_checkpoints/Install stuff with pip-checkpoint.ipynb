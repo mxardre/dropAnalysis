{
 "cells": [
  {
   "cell_type": "code",
   "execution_count": 11,
   "metadata": {
    "collapsed": false
   },
   "outputs": [
    {
     "name": "stdout",
     "output_type": "stream",
     "text": [
      "\u001b[33mYou are using pip version 7.1.0, however version 10.0.1 is available.\n",
      "You should consider upgrading via the 'pip install --upgrade pip' command.\u001b[0m\n",
      "Collecting requests\n",
      "  Downloading https://files.pythonhosted.org/packages/49/df/50aa1999ab9bde74656c2919d9c0c085fd2b3775fd3eca826012bef76d8c/requests-2.18.4-py2.py3-none-any.whl (88kB)\n",
      "\u001b[K    100% |████████████████████████████████| 90kB 2.8MB/s \n",
      "\u001b[?25hCollecting chardet<3.1.0,>=3.0.2 (from requests)\n",
      "  Downloading https://files.pythonhosted.org/packages/bc/a9/01ffebfb562e4274b6487b4bb1ddec7ca55ec7510b22e4c51f14098443b8/chardet-3.0.4-py2.py3-none-any.whl (133kB)\n",
      "\u001b[K    100% |████████████████████████████████| 135kB 3.5MB/s \n",
      "\u001b[?25hCollecting idna<2.7,>=2.5 (from requests)\n",
      "  Downloading https://files.pythonhosted.org/packages/27/cc/6dd9a3869f15c2edfab863b992838277279ce92663d334df9ecf5106f5c6/idna-2.6-py2.py3-none-any.whl (56kB)\n",
      "\u001b[K    100% |████████████████████████████████| 57kB 1.5MB/s \n",
      "\u001b[?25hCollecting certifi>=2017.4.17 (from requests)\n",
      "  Downloading https://files.pythonhosted.org/packages/7c/e6/92ad559b7192d846975fc916b65f667c7b8c3a32bea7372340bfe9a15fa5/certifi-2018.4.16-py2.py3-none-any.whl (150kB)\n",
      "\u001b[K    100% |████████████████████████████████| 151kB 1.3MB/s \n",
      "\u001b[?25hCollecting urllib3<1.23,>=1.21.1 (from requests)\n",
      "  Downloading https://files.pythonhosted.org/packages/63/cb/6965947c13a94236f6d4b8223e21beb4d576dc72e8130bd7880f600839b8/urllib3-1.22-py2.py3-none-any.whl (132kB)\n",
      "\u001b[K    100% |████████████████████████████████| 135kB 1.3MB/s \n",
      "\u001b[?25hInstalling collected packages: chardet, idna, certifi, urllib3, requests\n",
      "Successfully installed certifi-2018.4.16 chardet-3.0.4 idna-2.6 requests-2.18.4 urllib3-1.22\n"
     ]
    }
   ],
   "source": [
    "import sys\n",
    "!{sys.executable} -m pip install requests\n"
   ]
  },
  {
   "cell_type": "code",
   "execution_count": 14,
   "metadata": {
    "collapsed": false
   },
   "outputs": [
    {
     "name": "stdout",
     "output_type": "stream",
     "text": [
      "Password:\n"
     ]
    }
   ],
   "source": [
    "!{sys.executable} -m jupyter nbextension install --py githubcommit"
   ]
  },
  {
   "cell_type": "code",
   "execution_count": 30,
   "metadata": {
    "collapsed": false
   },
   "outputs": [
    {
     "name": "stdout",
     "output_type": "stream",
     "text": [
      "[ 0.  0.  0.  0.  0.  0.  0.  0.  0.  0.  0.  0.  0.  0.  0.  0.  0.  0.\n",
      "  0.  0.  0.  0.  1.  1.  1.  1.  1.  0.  0.  0.  0.  0.  0.  0.  0.  0.\n",
      "  0.  0.  0.  0.  0.  0.  0.  0.  0.  0.  0.  0.  0.  0.]\n",
      "[  7.10542736e-16  -3.55271368e-16  -1.18423789e-16  -4.14483263e-16\n",
      "   0.00000000e+00   2.66453526e-16   3.22118933e-16   6.15818798e-16\n",
      "   1.18423789e-16   1.18423789e-16   5.92118946e-17  -1.77635684e-16\n",
      "   3.55271368e-16   7.10542736e-16   1.53950926e-15   1.59872116e-15\n",
      "   6.21724894e-16  -4.88498131e-16  -1.13238933e-15  -1.73612284e-15\n",
      "   1.00000000e+00   2.00000000e+00   3.00000000e+00   4.00000000e+00\n",
      "   5.00000000e+00   5.00000000e+00   4.00000000e+00   3.00000000e+00\n",
      "   2.00000000e+00   1.00000000e+00  -7.02541014e-17  -1.43974785e-15\n",
      "  -8.43769499e-16  -2.96059473e-17  -7.10542736e-16  -4.73695157e-16\n",
      "  -9.47390314e-16   0.00000000e+00  -1.65793305e-15  -2.36847579e-15\n",
      "  -1.42108547e-15  -6.51330841e-16  -1.87822833e-17   4.86161377e-16\n",
      "   1.11022302e-15   1.03620816e-15   5.32907052e-16   1.00660221e-15\n",
      "   8.28966525e-16   1.18423789e-15]\n",
      "[ 0.  0.  0.  0.  0.  0.  0.  0.  0.  0.  0.  0.  0.  0.  0.  0.  0.  0.\n",
      "  0.  0.  1.  1.  1.  1.  1.  1.  1.  1.  1.  1.  0.  0.  0.  0.  0.  0.\n",
      "  0.  0.  0.  0.  0.  0.  0.  0.  0.  0.  0.  0.  0.  0.]\n"
     ]
    },
    {
     "name": "stderr",
     "output_type": "stream",
     "text": [
      "/usr/local/lib/python3.5/site-packages/ipykernel/__main__.py:14: VisibleDeprecationWarning: using a non-integer number instead of an integer will result in an error in the future\n",
      "/usr/local/lib/python3.5/site-packages/ipykernel/__main__.py:15: VisibleDeprecationWarning: using a non-integer number instead of an integer will result in an error in the future\n",
      "/usr/local/lib/python3.5/site-packages/ipykernel/__main__.py:15: VisibleDeprecationWarning: boolean index did not match indexed array along dimension 0; dimension is 50 but corresponding boolean dimension is 44\n"
     ]
    },
    {
     "data": {
      "text/plain": [
       "<matplotlib.collections.PathCollection at 0x1083902e8>"
      ]
     },
     "execution_count": 30,
     "metadata": {},
     "output_type": "execute_result"
    },
    {
     "data": {
      "image/png": "[encoded data removed]",
      "text/plain": [
       "<matplotlib.figure.Figure at 0x108150b38>"
      ]
     },
     "metadata": {},
     "output_type": "display_data"
    }
   ],
   "source": [
    "import scipy.signal\n",
    "import numpy as np\n",
    "import matplotlib.pyplot as plt\n",
    "%matplotlib inline\n",
    "\n",
    "mask=np.zeros(50)\n",
    "mask_area=np.zeros(50)\n",
    "mask[22:27]=1\n",
    "\n",
    "protocol_parameter=30 #integrale de la fluorescence sur une porte plus large que la detection. Pourcentage d'augmention\n",
    "\n",
    "\n",
    "width_increase=np.sum(mask)*(1+protocol_parameter/100)\n",
    "increase_with = scipy.signal.fftconvolve(mask, [1]*width_increase,'same')\n",
    "mask_area[increase_with[:-width_increase]>.5]=1\n",
    "print(mask)\n",
    "print(increase_with)\n",
    "print(mask_area)\n",
    "plt.scatter(range(len(mask)),mask)\n",
    "plt.scatter(range(len(increase_with)),increase_with+1,c='r')\n",
    "plt.scatter(range(len(mask_area)),mask_area+2,c='g')\n"
   ]
  }
 ],
 "metadata": {
  "kernelspec": {
   "display_name": "Python 3",
   "language": "python",
   "name": "python3"
  },
  "language_info": {
   "codemirror_mode": {
    "name": "ipython",
    "version": 3
   },
   "file_extension": ".py",
   "mimetype": "text/x-python",
   "name": "python",
   "nbconvert_exporter": "python",
   "pygments_lexer": "ipython3",
   "version": "3.5.2"
  }
 },
 "nbformat": 4,
 "nbformat_minor": 1
}
